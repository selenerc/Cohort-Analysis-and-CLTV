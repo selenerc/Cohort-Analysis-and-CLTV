{
 "cells": [
  {
   "cell_type": "markdown",
   "metadata": {
    "slideshow": {
     "slide_type": "slide"
    }
   },
   "source": [
    "# Cohort Analysis\n",
    "\n",
    "### Data analysis workflow\n",
    "\n",
    "#### By Selene Reyes"
   ]
  },
  {
   "cell_type": "markdown",
   "metadata": {},
   "source": [
    "## Table of Content\n",
    "\n",
    "1. [DATA](#data)<br>\n",
    "2. [EXPLORATORY DATA ANALYSIS](#eda)<br>\n",
    "3. [COHORT ANALYSIS](#cohort)<br>\n",
    "4. [CUSTOMER LIFETIME VALUE](#clv)<br>"
   ]
  },
  {
   "cell_type": "markdown",
   "metadata": {
    "slideshow": {
     "slide_type": "slide"
    }
   },
   "source": [
    "### Importing libraries"
   ]
  },
  {
   "cell_type": "code",
   "execution_count": 12,
   "metadata": {
    "slideshow": {
     "slide_type": "skip"
    }
   },
   "outputs": [],
   "source": [
    "from urllib.request import urlretrieve\n",
    "import pandas as pd\n",
    "import matplotlib.pyplot as plt\n",
    "import seaborn as sns\n",
    "import numpy as np\n",
    "#from scipy import stats\n",
    "import datetime as dt\n",
    "from datetime import datetime, date, timedelta\n",
    "#from pandas import set_option"
   ]
  },
  {
   "cell_type": "markdown",
   "metadata": {
    "slideshow": {
     "slide_type": "slide"
    }
   },
   "source": [
    "<a id='data'></a>\n",
    "# 1. Data\n",
    "\n",
    "This data set contains all the transactions occurring between 01/12/2010 and 09/12/2011 for a UK-based online retail business. The company mainly sells unique all-occasion gifts. Many customers of the company are wholesalers.\n",
    "\n",
    " __Data source:__ <br>\n",
    "UCI Machine Learning Repository   __[Link to dataset](https://archive.ics.uci.edu/ml/datasets/Online%20Retail)__"
   ]
  },
  {
   "cell_type": "markdown",
   "metadata": {
    "slideshow": {
     "slide_type": "subslide"
    }
   },
   "source": [
    "<a id='eda'></a>\n",
    "# 2. EDA"
   ]
  },
  {
   "cell_type": "code",
   "execution_count": 20,
   "metadata": {},
   "outputs": [],
   "source": [
    "URL = 'https://archive.ics.uci.edu/ml/machine-learning-databases/00352/Online%20Retail.xlsx'"
   ]
  },
  {
   "cell_type": "code",
   "execution_count": 24,
   "metadata": {},
   "outputs": [
    {
     "data": {
      "text/plain": [
       "('online_retail.xlsx', <http.client.HTTPMessage at 0x1058bd588>)"
      ]
     },
     "execution_count": 24,
     "metadata": {},
     "output_type": "execute_result"
    }
   ],
   "source": [
    "urlretrieve(URL, 'online_retail.xlsx')"
   ]
  },
  {
   "cell_type": "code",
   "execution_count": 30,
   "metadata": {},
   "outputs": [
    {
     "data": {
      "text/html": [
       "<div>\n",
       "<style scoped>\n",
       "    .dataframe tbody tr th:only-of-type {\n",
       "        vertical-align: middle;\n",
       "    }\n",
       "\n",
       "    .dataframe tbody tr th {\n",
       "        vertical-align: top;\n",
       "    }\n",
       "\n",
       "    .dataframe thead th {\n",
       "        text-align: right;\n",
       "    }\n",
       "</style>\n",
       "<table border=\"1\" class=\"dataframe\">\n",
       "  <thead>\n",
       "    <tr style=\"text-align: right;\">\n",
       "      <th></th>\n",
       "      <th>InvoiceNo</th>\n",
       "      <th>StockCode</th>\n",
       "      <th>Description</th>\n",
       "      <th>Quantity</th>\n",
       "      <th>InvoiceDate</th>\n",
       "      <th>UnitPrice</th>\n",
       "      <th>CustomerID</th>\n",
       "      <th>Country</th>\n",
       "    </tr>\n",
       "  </thead>\n",
       "  <tbody>\n",
       "    <tr>\n",
       "      <th>0</th>\n",
       "      <td>536365</td>\n",
       "      <td>85123A</td>\n",
       "      <td>WHITE HANGING HEART T-LIGHT HOLDER</td>\n",
       "      <td>6</td>\n",
       "      <td>2010-12-01 08:26:00</td>\n",
       "      <td>2.55</td>\n",
       "      <td>17850.0</td>\n",
       "      <td>United Kingdom</td>\n",
       "    </tr>\n",
       "    <tr>\n",
       "      <th>1</th>\n",
       "      <td>536365</td>\n",
       "      <td>71053</td>\n",
       "      <td>WHITE METAL LANTERN</td>\n",
       "      <td>6</td>\n",
       "      <td>2010-12-01 08:26:00</td>\n",
       "      <td>3.39</td>\n",
       "      <td>17850.0</td>\n",
       "      <td>United Kingdom</td>\n",
       "    </tr>\n",
       "    <tr>\n",
       "      <th>2</th>\n",
       "      <td>536365</td>\n",
       "      <td>84406B</td>\n",
       "      <td>CREAM CUPID HEARTS COAT HANGER</td>\n",
       "      <td>8</td>\n",
       "      <td>2010-12-01 08:26:00</td>\n",
       "      <td>2.75</td>\n",
       "      <td>17850.0</td>\n",
       "      <td>United Kingdom</td>\n",
       "    </tr>\n",
       "    <tr>\n",
       "      <th>3</th>\n",
       "      <td>536365</td>\n",
       "      <td>84029G</td>\n",
       "      <td>KNITTED UNION FLAG HOT WATER BOTTLE</td>\n",
       "      <td>6</td>\n",
       "      <td>2010-12-01 08:26:00</td>\n",
       "      <td>3.39</td>\n",
       "      <td>17850.0</td>\n",
       "      <td>United Kingdom</td>\n",
       "    </tr>\n",
       "    <tr>\n",
       "      <th>4</th>\n",
       "      <td>536365</td>\n",
       "      <td>84029E</td>\n",
       "      <td>RED WOOLLY HOTTIE WHITE HEART.</td>\n",
       "      <td>6</td>\n",
       "      <td>2010-12-01 08:26:00</td>\n",
       "      <td>3.39</td>\n",
       "      <td>17850.0</td>\n",
       "      <td>United Kingdom</td>\n",
       "    </tr>\n",
       "  </tbody>\n",
       "</table>\n",
       "</div>"
      ],
      "text/plain": [
       "  InvoiceNo StockCode                          Description  Quantity  \\\n",
       "0    536365    85123A   WHITE HANGING HEART T-LIGHT HOLDER         6   \n",
       "1    536365     71053                  WHITE METAL LANTERN         6   \n",
       "2    536365    84406B       CREAM CUPID HEARTS COAT HANGER         8   \n",
       "3    536365    84029G  KNITTED UNION FLAG HOT WATER BOTTLE         6   \n",
       "4    536365    84029E       RED WOOLLY HOTTIE WHITE HEART.         6   \n",
       "\n",
       "          InvoiceDate  UnitPrice  CustomerID         Country  \n",
       "0 2010-12-01 08:26:00       2.55     17850.0  United Kingdom  \n",
       "1 2010-12-01 08:26:00       3.39     17850.0  United Kingdom  \n",
       "2 2010-12-01 08:26:00       2.75     17850.0  United Kingdom  \n",
       "3 2010-12-01 08:26:00       3.39     17850.0  United Kingdom  \n",
       "4 2010-12-01 08:26:00       3.39     17850.0  United Kingdom  "
      ]
     },
     "execution_count": 30,
     "metadata": {},
     "output_type": "execute_result"
    }
   ],
   "source": [
    "xls = pd.ExcelFile(\"online_retail.xlsx\")\n",
    "online = pd.read_excel(xls, parse_dates = ['InvoiceDate'])\n",
    "online.head()"
   ]
  },
  {
   "cell_type": "code",
   "execution_count": 31,
   "metadata": {
    "slideshow": {
     "slide_type": "fragment"
    }
   },
   "outputs": [
    {
     "name": "stdout",
     "output_type": "stream",
     "text": [
      "<class 'pandas.core.frame.DataFrame'>\n",
      "Int64Index: 70864 entries, 416792 to 312243\n",
      "Data columns (total 8 columns):\n",
      " #   Column       Non-Null Count  Dtype         \n",
      "---  ------       --------------  -----         \n",
      " 0   InvoiceNo    70864 non-null  int64         \n",
      " 1   StockCode    70864 non-null  object        \n",
      " 2   Description  70864 non-null  object        \n",
      " 3   Quantity     70864 non-null  int64         \n",
      " 4   InvoiceDate  70864 non-null  datetime64[ns]\n",
      " 5   UnitPrice    70864 non-null  float64       \n",
      " 6   CustomerID   70864 non-null  int64         \n",
      " 7   Country      70864 non-null  object        \n",
      "dtypes: datetime64[ns](1), float64(1), int64(3), object(3)\n",
      "memory usage: 4.9+ MB\n"
     ]
    }
   ],
   "source": [
    "online.info()"
   ]
  },
  {
   "cell_type": "markdown",
   "metadata": {},
   "source": [
    "<a id='cohort'></a>\n",
    "# 3. Cohort Analysis\n",
    "Cohort: group of people who have become a customer around the same time\n",
    "\n",
    "### It groups customers into different behavioral segments. It allows to:\n",
    "\n",
    "> ### -  Evolution over time (long term relationship) \n",
    "> ### -  Compare cohort groups over time (and product lifetime) <br>\n",
    "\n",
    "\n",
    "![Cohort](dir-python/Cohort.png)<br><br>\n",
    "\n",
    "\n",
    "## 3.1 Time cohort (monthly)\n",
    "Shows the customers’ behavior depending on the time they start using the product or services (monthly, quarterly)\n",
    "\n",
    "We will create monthly cohorts, based on the month each customer has made their first transaction.<br>\n",
    "### ==> Adding: 'InvoiceMonth' and 'CohortMonth' columns"
   ]
  },
  {
   "cell_type": "code",
   "execution_count": 9,
   "metadata": {},
   "outputs": [],
   "source": [
    "def get_month(x): \n",
    "    \"\"\"\n",
    "    Returns parsed date (YYYY-MM-01)\n",
    "\n",
    "    Parameters\n",
    "    ----------\n",
    "    x: array of dates\n",
    "    \"\"\"\n",
    "    return dt.datetime(x.year, x.month, 1) "
   ]
  },
  {
   "cell_type": "code",
   "execution_count": 10,
   "metadata": {},
   "outputs": [
    {
     "data": {
      "text/plain": [
       "416792   2011-10-01\n",
       "482904   2011-11-01\n",
       "263743   2011-07-01\n",
       "495549   2011-11-01\n",
       "204384   2011-05-01\n",
       "            ...    \n",
       "448575   2011-11-01\n",
       "19970    2010-12-01\n",
       "264154   2011-07-01\n",
       "199822   2011-05-01\n",
       "312243   2011-08-01\n",
       "Name: InvoiceDate, Length: 70864, dtype: datetime64[ns]"
      ]
     },
     "execution_count": 10,
     "metadata": {},
     "output_type": "execute_result"
    }
   ],
   "source": [
    "online['InvoiceDate'].apply(get_month) "
   ]
  },
  {
   "cell_type": "code",
   "execution_count": null,
   "metadata": {},
   "outputs": [],
   "source": [
    "online.groupby('CustomerID')['InvoiceMonth'] "
   ]
  },
  {
   "cell_type": "code",
   "execution_count": 527,
   "metadata": {},
   "outputs": [
    {
     "data": {
      "text/html": [
       "<div>\n",
       "<style scoped>\n",
       "    .dataframe tbody tr th:only-of-type {\n",
       "        vertical-align: middle;\n",
       "    }\n",
       "\n",
       "    .dataframe tbody tr th {\n",
       "        vertical-align: top;\n",
       "    }\n",
       "\n",
       "    .dataframe thead th {\n",
       "        text-align: right;\n",
       "    }\n",
       "</style>\n",
       "<table border=\"1\" class=\"dataframe\">\n",
       "  <thead>\n",
       "    <tr style=\"text-align: right;\">\n",
       "      <th></th>\n",
       "      <th>InvoiceNo</th>\n",
       "      <th>StockCode</th>\n",
       "      <th>Description</th>\n",
       "      <th>Quantity</th>\n",
       "      <th>InvoiceDate</th>\n",
       "      <th>UnitPrice</th>\n",
       "      <th>CustomerID</th>\n",
       "      <th>Country</th>\n",
       "      <th>InvoiceMonth</th>\n",
       "      <th>CohortMonth</th>\n",
       "    </tr>\n",
       "  </thead>\n",
       "  <tbody>\n",
       "    <tr>\n",
       "      <th>416792</th>\n",
       "      <td>572558</td>\n",
       "      <td>22745</td>\n",
       "      <td>POPPY'S PLAYHOUSE BEDROOM</td>\n",
       "      <td>6</td>\n",
       "      <td>2011-10-25 08:26:00</td>\n",
       "      <td>2.1</td>\n",
       "      <td>14286</td>\n",
       "      <td>United Kingdom</td>\n",
       "      <td>2011-10-01</td>\n",
       "      <td>2011-04-01</td>\n",
       "    </tr>\n",
       "    <tr>\n",
       "      <th>482904</th>\n",
       "      <td>577485</td>\n",
       "      <td>23196</td>\n",
       "      <td>VINTAGE LEAF MAGNETIC NOTEPAD</td>\n",
       "      <td>1</td>\n",
       "      <td>2011-11-20 11:56:00</td>\n",
       "      <td>1.4</td>\n",
       "      <td>16360</td>\n",
       "      <td>United Kingdom</td>\n",
       "      <td>2011-11-01</td>\n",
       "      <td>2011-09-01</td>\n",
       "    </tr>\n",
       "    <tr>\n",
       "      <th>263743</th>\n",
       "      <td>560034</td>\n",
       "      <td>23299</td>\n",
       "      <td>FOOD COVER WITH BEADS SET 2</td>\n",
       "      <td>6</td>\n",
       "      <td>2011-07-14 13:35:00</td>\n",
       "      <td>3.8</td>\n",
       "      <td>13933</td>\n",
       "      <td>United Kingdom</td>\n",
       "      <td>2011-07-01</td>\n",
       "      <td>2011-07-01</td>\n",
       "    </tr>\n",
       "    <tr>\n",
       "      <th>495549</th>\n",
       "      <td>578307</td>\n",
       "      <td>72349B</td>\n",
       "      <td>SET/6 PURPLE BUTTERFLY T-LIGHTS</td>\n",
       "      <td>1</td>\n",
       "      <td>2011-11-23 15:53:00</td>\n",
       "      <td>2.1</td>\n",
       "      <td>17290</td>\n",
       "      <td>United Kingdom</td>\n",
       "      <td>2011-11-01</td>\n",
       "      <td>2011-11-01</td>\n",
       "    </tr>\n",
       "    <tr>\n",
       "      <th>204384</th>\n",
       "      <td>554656</td>\n",
       "      <td>21756</td>\n",
       "      <td>BATH BUILDING BLOCK WORD</td>\n",
       "      <td>3</td>\n",
       "      <td>2011-05-25 13:36:00</td>\n",
       "      <td>6.0</td>\n",
       "      <td>17663</td>\n",
       "      <td>United Kingdom</td>\n",
       "      <td>2011-05-01</td>\n",
       "      <td>2011-02-01</td>\n",
       "    </tr>\n",
       "  </tbody>\n",
       "</table>\n",
       "</div>"
      ],
      "text/plain": [
       "        InvoiceNo StockCode                      Description  Quantity         InvoiceDate  UnitPrice  CustomerID  \\\n",
       "416792     572558     22745       POPPY'S PLAYHOUSE BEDROOM          6 2011-10-25 08:26:00        2.1       14286   \n",
       "482904     577485     23196    VINTAGE LEAF MAGNETIC NOTEPAD         1 2011-11-20 11:56:00        1.4       16360   \n",
       "263743     560034     23299     FOOD COVER WITH BEADS SET 2          6 2011-07-14 13:35:00        3.8       13933   \n",
       "495549     578307    72349B  SET/6 PURPLE BUTTERFLY T-LIGHTS         1 2011-11-23 15:53:00        2.1       17290   \n",
       "204384     554656     21756         BATH BUILDING BLOCK WORD         3 2011-05-25 13:36:00        6.0       17663   \n",
       "\n",
       "               Country InvoiceMonth CohortMonth  \n",
       "416792  United Kingdom   2011-10-01  2011-04-01  \n",
       "482904  United Kingdom   2011-11-01  2011-09-01  \n",
       "263743  United Kingdom   2011-07-01  2011-07-01  \n",
       "495549  United Kingdom   2011-11-01  2011-11-01  \n",
       "204384  United Kingdom   2011-05-01  2011-02-01  "
      ]
     },
     "execution_count": 527,
     "metadata": {},
     "output_type": "execute_result"
    }
   ],
   "source": [
    "# InvoiceDay column\n",
    "online['InvoiceMonth'] = online['InvoiceDate'].apply(get_month) \n",
    "\n",
    "# Grouping by CustomerID and selecting the InvoiceDay value\n",
    "grouping = online.groupby('CustomerID')['InvoiceMonth'] \n",
    "\n",
    "# Assigning a minimum InvoiceDay value to the dataset\n",
    "online['CohortMonth'] = grouping.transform('min')\n",
    "\n",
    "online.head()"
   ]
  },
  {
   "cell_type": "code",
   "execution_count": 7,
   "metadata": {},
   "outputs": [
    {
     "data": {
      "text/plain": [
       "pandas.core.series.Series"
      ]
     },
     "execution_count": 7,
     "metadata": {},
     "output_type": "execute_result"
    }
   ],
   "source": [
    "type(online['InvoiceDate'])"
   ]
  },
  {
   "cell_type": "markdown",
   "metadata": {},
   "source": [
    "### ==> Time offset: number of months between any trasaction and the first trasactions of each customer."
   ]
  },
  {
   "cell_type": "code",
   "execution_count": 528,
   "metadata": {},
   "outputs": [],
   "source": [
    "def get_date_int(df, column):\n",
    "    \"\"\"Extract year, month, and day integer values\n",
    "        \n",
    "    Args:\n",
    "        arg_1 (df):\n",
    "        arg_2 (str): column name with datetime values\n",
    "    \n",
    "    Returns:\n",
    "        int(year), int(months), int(days)\n",
    "    \"\"\"\n",
    "    year = df[column].dt.year\n",
    "    month = df[column].dt.month\n",
    "    day = df[column].dt.day\n",
    "    \n",
    "    return year, month, day"
   ]
  },
  {
   "cell_type": "code",
   "execution_count": 529,
   "metadata": {},
   "outputs": [],
   "source": [
    "# Get the integers for date parts from the `InvoiceDay` column\n",
    "invoice_year, invoice_month, invoice_day = get_date_int(online, 'InvoiceMonth')\n",
    "\n",
    "# Get the integers for date parts from the `CohortDay` column\n",
    "cohort_year, cohort_month, cohort_day = get_date_int(online, 'CohortMonth')"
   ]
  },
  {
   "cell_type": "markdown",
   "metadata": {},
   "source": [
    "### $$ CohortIndex = InvoiceMonth - CohortMonth $$"
   ]
  },
  {
   "cell_type": "code",
   "execution_count": 530,
   "metadata": {},
   "outputs": [
    {
     "data": {
      "text/html": [
       "<div>\n",
       "<style scoped>\n",
       "    .dataframe tbody tr th:only-of-type {\n",
       "        vertical-align: middle;\n",
       "    }\n",
       "\n",
       "    .dataframe tbody tr th {\n",
       "        vertical-align: top;\n",
       "    }\n",
       "\n",
       "    .dataframe thead th {\n",
       "        text-align: right;\n",
       "    }\n",
       "</style>\n",
       "<table border=\"1\" class=\"dataframe\">\n",
       "  <thead>\n",
       "    <tr style=\"text-align: right;\">\n",
       "      <th></th>\n",
       "      <th>InvoiceNo</th>\n",
       "      <th>StockCode</th>\n",
       "      <th>Description</th>\n",
       "      <th>Quantity</th>\n",
       "      <th>InvoiceDate</th>\n",
       "      <th>UnitPrice</th>\n",
       "      <th>CustomerID</th>\n",
       "      <th>Country</th>\n",
       "      <th>InvoiceMonth</th>\n",
       "      <th>CohortMonth</th>\n",
       "      <th>CohortIndex</th>\n",
       "    </tr>\n",
       "  </thead>\n",
       "  <tbody>\n",
       "    <tr>\n",
       "      <th>416792</th>\n",
       "      <td>572558</td>\n",
       "      <td>22745</td>\n",
       "      <td>POPPY'S PLAYHOUSE BEDROOM</td>\n",
       "      <td>6</td>\n",
       "      <td>2011-10-25 08:26:00</td>\n",
       "      <td>2.1</td>\n",
       "      <td>14286</td>\n",
       "      <td>United Kingdom</td>\n",
       "      <td>2011-10-01</td>\n",
       "      <td>2011-04-01</td>\n",
       "      <td>7</td>\n",
       "    </tr>\n",
       "    <tr>\n",
       "      <th>482904</th>\n",
       "      <td>577485</td>\n",
       "      <td>23196</td>\n",
       "      <td>VINTAGE LEAF MAGNETIC NOTEPAD</td>\n",
       "      <td>1</td>\n",
       "      <td>2011-11-20 11:56:00</td>\n",
       "      <td>1.4</td>\n",
       "      <td>16360</td>\n",
       "      <td>United Kingdom</td>\n",
       "      <td>2011-11-01</td>\n",
       "      <td>2011-09-01</td>\n",
       "      <td>3</td>\n",
       "    </tr>\n",
       "    <tr>\n",
       "      <th>263743</th>\n",
       "      <td>560034</td>\n",
       "      <td>23299</td>\n",
       "      <td>FOOD COVER WITH BEADS SET 2</td>\n",
       "      <td>6</td>\n",
       "      <td>2011-07-14 13:35:00</td>\n",
       "      <td>3.8</td>\n",
       "      <td>13933</td>\n",
       "      <td>United Kingdom</td>\n",
       "      <td>2011-07-01</td>\n",
       "      <td>2011-07-01</td>\n",
       "      <td>1</td>\n",
       "    </tr>\n",
       "  </tbody>\n",
       "</table>\n",
       "</div>"
      ],
      "text/plain": [
       "        InvoiceNo StockCode                    Description  Quantity         InvoiceDate  UnitPrice  CustomerID  \\\n",
       "416792     572558     22745     POPPY'S PLAYHOUSE BEDROOM          6 2011-10-25 08:26:00        2.1       14286   \n",
       "482904     577485     23196  VINTAGE LEAF MAGNETIC NOTEPAD         1 2011-11-20 11:56:00        1.4       16360   \n",
       "263743     560034     23299   FOOD COVER WITH BEADS SET 2          6 2011-07-14 13:35:00        3.8       13933   \n",
       "\n",
       "               Country InvoiceMonth CohortMonth  CohortIndex  \n",
       "416792  United Kingdom   2011-10-01  2011-04-01            7  \n",
       "482904  United Kingdom   2011-11-01  2011-09-01            3  \n",
       "263743  United Kingdom   2011-07-01  2011-07-01            1  "
      ]
     },
     "execution_count": 530,
     "metadata": {},
     "output_type": "execute_result"
    }
   ],
   "source": [
    "# Difference in years between the moment of the invoice and the moment the cohort was created \n",
    "years_diff =  invoice_year - cohort_year\n",
    "\n",
    "# Calculate difference in months between the moment of the invoice and the moment the cohort was created \n",
    "months_diff = invoice_month - cohort_month\n",
    "\n",
    "\n",
    "# Extract the difference in months from all previous values and\n",
    "# Assign the monthly time offset to each transaction\n",
    "online['CohortIndex'] = years_diff * 12 + months_diff + 1\n",
    "online.head(3)"
   ]
  },
  {
   "cell_type": "markdown",
   "metadata": {},
   "source": [
    "## Metrics\n",
    "\n",
    "### <font color=blue> Retention</font>\n",
    "### $$ Retention =\\frac{Active Customers}{Total Customers} $$\n",
    "  <t>How many customers originally in each cohort have return in the subsequent mont?\n",
    "\n",
    "Steps:<br>\n",
    "a) Select the first column (total number of customers in the cohort)<br>\n",
    "b) Calculate the ratio of how many of these customers were active in the following months"
   ]
  },
  {
   "cell_type": "code",
   "execution_count": 567,
   "metadata": {},
   "outputs": [],
   "source": [
    "grouping = online.groupby(['CohortMonth','CohortIndex'])\n",
    "\n",
    "# Number of unique values per customer ID\n",
    "cohort_data = grouping['CustomerID'].apply(pd.Series.nunique).reset_index()\n",
    "\n",
    "cohort_data['CohortMonth'] = cohort_data.CohortMonth.dt.date\n",
    "\n",
    "cohort_counts = cohort_data.pivot(index='CohortMonth', \n",
    "                                  columns='CohortIndex', \n",
    "                                  values='CustomerID')\n",
    "\n",
    "# First column stored as cohort_sizes\n",
    "cohort_sizes = cohort_counts.iloc[:,0]\n",
    "\n",
    "# Divide the cohort count by cohort sizes along the rows\n",
    "retention = cohort_counts.divide(cohort_sizes, axis=0).mul(100)\n",
    "\n",
    "#set_option('display.width', 120)\n",
    "#set_option('precision', 1)\n",
    "#print('MONTHLY ACQUISITION COHORT\\n')\n",
    "#print(cohort_counts.round(0))\n",
    "#print()\n",
    "sns.set_context(\"paper\", font_scale=1.5)\n",
    "sns.set_style(\"ticks\")\n",
    "#plt.figure(figsize=(12, 8))\n",
    "#plt.title('MONTHLY ACQUISITION COHORT\\n')\n",
    "#sns.heatmap(data=cohort_counts, annot=True, cmap='RdYlBu', fmt='.0f', vmin=0, vmax=350);\n",
    "#print()\n",
    "#plt.figure(figsize=(12, 8))\n",
    "#plt.title('MONTHLY RETENTION RATE (%)\\n')\n",
    "#sns.heatmap(data=retention, annot=True, cmap='RdYlBu', vmin=15, vmax=45);\n",
    "#print()"
   ]
  },
  {
   "cell_type": "markdown",
   "metadata": {},
   "source": [
    "### <font color=blue> Churn </font>\n",
    "### $$ Churn = 1 - Retention $$"
   ]
  },
  {
   "cell_type": "code",
   "execution_count": 451,
   "metadata": {},
   "outputs": [],
   "source": [
    "# Churn Rate\n",
    "churn = 1 - retention\n",
    "\n",
    "#plt.figure(figsize=(12, 8))\n",
    "#plt.title('MONTHLY CHURN RATE\\n')\n",
    "#sns.heatmap(data=churn, annot=True, cmap='Blues', fmt='.2f');"
   ]
  },
  {
   "cell_type": "markdown",
   "metadata": {},
   "source": [
    "## 3.2 Size cohorts\n",
    "\n",
    "Amount of spending over a period of time, or the product type the customer spend more.\n",
    "\n",
    "### <font color=blue>__Average Order Value (AOV)__</font>\n",
    "Are there any differences in shopping patterns across time and across cohorts?"
   ]
  },
  {
   "cell_type": "code",
   "execution_count": 543,
   "metadata": {},
   "outputs": [
    {
     "data": {
      "text/html": [
       "<div>\n",
       "<style scoped>\n",
       "    .dataframe tbody tr th:only-of-type {\n",
       "        vertical-align: middle;\n",
       "    }\n",
       "\n",
       "    .dataframe tbody tr th {\n",
       "        vertical-align: top;\n",
       "    }\n",
       "\n",
       "    .dataframe thead th {\n",
       "        text-align: right;\n",
       "    }\n",
       "</style>\n",
       "<table border=\"1\" class=\"dataframe\">\n",
       "  <thead>\n",
       "    <tr style=\"text-align: right;\">\n",
       "      <th></th>\n",
       "      <th>InvoiceNo</th>\n",
       "      <th>StockCode</th>\n",
       "      <th>Description</th>\n",
       "      <th>Quantity</th>\n",
       "      <th>InvoiceDate</th>\n",
       "      <th>UnitPrice</th>\n",
       "      <th>CustomerID</th>\n",
       "      <th>Country</th>\n",
       "      <th>InvoiceMonth</th>\n",
       "      <th>CohortMonth</th>\n",
       "      <th>CohortIndex</th>\n",
       "      <th>Amount</th>\n",
       "    </tr>\n",
       "  </thead>\n",
       "  <tbody>\n",
       "    <tr>\n",
       "      <th>416792</th>\n",
       "      <td>572558</td>\n",
       "      <td>22745</td>\n",
       "      <td>POPPY'S PLAYHOUSE BEDROOM</td>\n",
       "      <td>6</td>\n",
       "      <td>2011-10-25 08:26:00</td>\n",
       "      <td>2.1</td>\n",
       "      <td>14286</td>\n",
       "      <td>United Kingdom</td>\n",
       "      <td>2011-10-01</td>\n",
       "      <td>2011-04-01</td>\n",
       "      <td>7</td>\n",
       "      <td>12.6</td>\n",
       "    </tr>\n",
       "    <tr>\n",
       "      <th>482904</th>\n",
       "      <td>577485</td>\n",
       "      <td>23196</td>\n",
       "      <td>VINTAGE LEAF MAGNETIC NOTEPAD</td>\n",
       "      <td>1</td>\n",
       "      <td>2011-11-20 11:56:00</td>\n",
       "      <td>1.4</td>\n",
       "      <td>16360</td>\n",
       "      <td>United Kingdom</td>\n",
       "      <td>2011-11-01</td>\n",
       "      <td>2011-09-01</td>\n",
       "      <td>3</td>\n",
       "      <td>1.4</td>\n",
       "    </tr>\n",
       "  </tbody>\n",
       "</table>\n",
       "</div>"
      ],
      "text/plain": [
       "        InvoiceNo StockCode                    Description  Quantity         InvoiceDate  UnitPrice  CustomerID  \\\n",
       "416792     572558     22745     POPPY'S PLAYHOUSE BEDROOM          6 2011-10-25 08:26:00        2.1       14286   \n",
       "482904     577485     23196  VINTAGE LEAF MAGNETIC NOTEPAD         1 2011-11-20 11:56:00        1.4       16360   \n",
       "\n",
       "               Country InvoiceMonth CohortMonth  CohortIndex  Amount  \n",
       "416792  United Kingdom   2011-10-01  2011-04-01            7    12.6  \n",
       "482904  United Kingdom   2011-11-01  2011-09-01            3     1.4  "
      ]
     },
     "execution_count": 543,
     "metadata": {},
     "output_type": "execute_result"
    }
   ],
   "source": [
    "# Calculate total amount spent per invoice\n",
    "online['Amount'] = online.Quantity * online.UnitPrice\n",
    "online.head(2)"
   ]
  },
  {
   "cell_type": "code",
   "execution_count": 566,
   "metadata": {},
   "outputs": [
    {
     "data": {
      "image/png": "[encoded data removed]",
      "text/plain": [
       "<matplotlib.figure.Figure at 0x1a225e60b8>"
      ]
     },
     "metadata": {},
     "output_type": "display_data"
    }
   ],
   "source": [
    "grouping = online.groupby(['CohortMonth', 'CohortIndex']) \n",
    "\n",
    "# Average amount spent by monthly cohort\n",
    "cohort_data = grouping['Amount'].mean().reset_index()\n",
    "\n",
    "cohort_data['CohortMonth'] = cohort_data.CohortMonth.dt.date\n",
    "\n",
    "average_spent = cohort_data.pivot(index='CohortMonth', columns='CohortIndex', values='Amount')\n",
    "\n",
    "plt.figure(figsize=(12, 8))\n",
    "plt.title('AVERAGE ORDER VALUE ($)\\n')\n",
    "sns.heatmap(data=average_spent, annot=True, cmap='BuPu', fmt='.1f', vmin=10, vmax=30);"
   ]
  },
  {
   "cell_type": "markdown",
   "metadata": {},
   "source": [
    "### <font color=blue>Average quantity</font>"
   ]
  },
  {
   "cell_type": "code",
   "execution_count": 454,
   "metadata": {},
   "outputs": [],
   "source": [
    "# Average quantity by monthly cohort\n",
    "cohort_data = grouping['Quantity'].mean().reset_index()\n",
    "\n",
    "cohort_data['CohortMonth'] = cohort_data.CohortMonth.dt.date\n",
    " \n",
    "average_quantity = cohort_data.pivot(index='CohortMonth', columns='CohortIndex', values='Quantity')\n",
    "\n",
    "#plt.figure(figsize=(12, 8))\n",
    "#plt.title('AVERAGE QUANTITY ORDER BY MONTHLY COHORTS\\n')\n",
    "#sns.heatmap(data=average_quantity, annot=True, cmap='Blues', fmt='.1f');"
   ]
  },
  {
   "cell_type": "markdown",
   "metadata": {},
   "source": [
    "### <font color=blue>Average Unit Price</font>"
   ]
  },
  {
   "cell_type": "code",
   "execution_count": 455,
   "metadata": {},
   "outputs": [],
   "source": [
    "# Average of the unit price \n",
    "cohort_data = grouping['UnitPrice'].mean().reset_index()\n",
    "\n",
    "cohort_data['CohortMonth'] = cohort_data.CohortMonth.dt.date\n",
    "\n",
    "# Create a pivot \n",
    "average_price = cohort_data.pivot(index='CohortMonth', columns='CohortIndex', values='UnitPrice')\n",
    "\n",
    "#plt.figure(figsize=(12, 8))\n",
    "#plt.title('AVERAGE UNIT PRICE BY MONTHLY COHORTS\\n')\n",
    "#sns.heatmap(data=average_price, annot=True, cmap='Greens', fmt='.2f');"
   ]
  },
  {
   "cell_type": "markdown",
   "metadata": {},
   "source": [
    "<a id='clv'></a>\n",
    "# 4. Customer Lifetime Value\n",
    "\n",
    "### GOAL: \n",
    "* ### Measure customer value in revenue or profit\n",
    "* ### Benchmark customers and asses the max investment into customer acquisition<br><br>\n",
    "\n",
    "![CLV](dir-python/CLV.png)\n",
    "\n",
    "## 4.1 Traditional CLV \n",
    "\n",
    "### Most popular approach\n",
    "#### Accounts for customer loyalty<br>\n",
    "### $$ \\text Taditional CLV = (Avg Revenue * Profit Margin) * \\frac {Retention Rate}{Churn Rate}$$\n",
    "\n"
   ]
  },
  {
   "cell_type": "code",
   "execution_count": 456,
   "metadata": {},
   "outputs": [
    {
     "name": "stdout",
     "output_type": "stream",
     "text": [
      "Retention rate: 0.24; Churn rate: 0.76\n"
     ]
    }
   ],
   "source": [
    "# Mean retention rate\n",
    "retention_rate = retention.iloc[:,1:].mean().mean()\n",
    "\n",
    "# Mean churn rate\n",
    "churn_rate = churn.iloc[:,1:].mean().mean()\n",
    "\n",
    "print('Retention rate: {:.2f}; Churn rate: {:.2f}'.format(retention_rate, churn_rate))"
   ]
  },
  {
   "cell_type": "code",
   "execution_count": 457,
   "metadata": {},
   "outputs": [
    {
     "name": "stdout",
     "output_type": "stream",
     "text": [
      "Average traditional CLV is 42.4 USD at 24.2 % retention_rate\n"
     ]
    }
   ],
   "source": [
    "# Monthly spend per customer\n",
    "monthly_revenue = online.groupby(['CustomerID','InvoiceMonth'])['Amount'].sum().mean()\n",
    "\n",
    "# Average monthly retention rate\n",
    "retention_rate = retention.iloc[:,1:].mean().mean()\n",
    "\n",
    "# Average monthly churn rate\n",
    "churn_rate = 1 - retention_rate\n",
    "\n",
    "# Calculate traditional CLV \n",
    "clv_traditional = monthly_revenue * (retention_rate / churn_rate)\n",
    "\n",
    "print('Average traditional CLV is {:.1f} USD at {:.1f} % retention_rate'.format(\n",
    "    clv_traditional, retention_rate*100))"
   ]
  }
 ],
 "metadata": {
  "celltoolbar": "Raw Cell Format",
  "kernelspec": {
   "display_name": "Python 3",
   "language": "python",
   "name": "python3"
  },
  "language_info": {
   "codemirror_mode": {
    "name": "ipython",
    "version": 3
   },
   "file_extension": ".py",
   "mimetype": "text/x-python",
   "name": "python",
   "nbconvert_exporter": "python",
   "pygments_lexer": "ipython3",
   "version": "3.6.4"
  }
 },
 "nbformat": 4,
 "nbformat_minor": 2
}
